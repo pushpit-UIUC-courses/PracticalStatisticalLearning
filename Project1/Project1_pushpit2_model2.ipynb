{
 "cells": [
  {
   "cell_type": "code",
   "execution_count": 171,
   "metadata": {
    "ExecuteTime": {
     "end_time": "2019-12-03T05:45:55.413538Z",
     "start_time": "2019-12-03T05:45:54.955013Z"
    }
   },
   "outputs": [],
   "source": [
    "import numpy as np\n",
    "import pandas as pd\n",
    "from nltk.corpus import stopwords\n",
    "from nltk.stem.porter import PorterStemmer\n",
    "from sklearn.feature_extraction.text import CountVectorizer\n",
    "import nltk\n",
    "import string\n",
    "from wordcloud import WordCloud, STOPWORDS\n",
    "import re\n",
    "from nltk.tokenize import RegexpTokenizer\n",
    "from sklearn.feature_extraction.text import CountVectorizer,TfidfVectorizer\n",
    "from sklearn.model_selection import train_test_split\n",
    "from catboost import Pool, CatBoostRegressor, cv\n",
    "import matplotlib.pyplot as plt\n",
    "import seaborn as sns\n",
    "%matplotlib inline\n",
    "sns.set_style(\"dark\")\n",
    "def truncate(f, n):\n",
    "    return math.floor(f * 10 ** n) / 10 ** n"
   ]
  },
  {
   "cell_type": "code",
   "execution_count": 172,
   "metadata": {
    "ExecuteTime": {
     "end_time": "2019-12-03T05:46:03.379981Z",
     "start_time": "2019-12-03T05:45:58.944934Z"
    }
   },
   "outputs": [
    {
     "name": "stdout",
     "output_type": "stream",
     "text": [
      "Total number of examples:  129971\n",
      "Number of examples with the same title and description:  9983\n"
     ]
    }
   ],
   "source": [
    "#Data loading and cleaning steps\n",
    "full_data = pd.read_csv('winemag-data-130k-v2.csv')\n",
    "data = full_data.copy()\n",
    "print(\"Total number of examples: \", data.shape[0])\n",
    "print(\"Number of examples with the same title and description: \",\n",
    "      data[data.duplicated(['description','title'])].shape[0])\n",
    "data=data.drop_duplicates(['description','title'])\n",
    "data=data.reset_index(drop=True)\n",
    "data=data.dropna(subset=['price'])\n",
    "data=data.reset_index(drop=True)"
   ]
  },
  {
   "cell_type": "code",
   "execution_count": 173,
   "metadata": {
    "ExecuteTime": {
     "end_time": "2019-12-03T05:47:22.751919Z",
     "start_time": "2019-12-03T05:46:05.848817Z"
    }
   },
   "outputs": [
    {
     "name": "stdout",
     "output_type": "stream",
     "text": [
      "4624968 words total, with a vocabulary size of 29486\n"
     ]
    }
   ],
   "source": [
    "data['description']= data['description'].str.lower()\n",
    "data['description']= data['description'].apply(lambda elem: re.sub('[^a-zA-Z]',' ', elem))  \n",
    "data['description']\n",
    "\n",
    "\n",
    "tokenizer = RegexpTokenizer(r'\\w+')\n",
    "words_descriptions = data['description'].apply(tokenizer.tokenize)\n",
    "\n",
    "all_words = [word for tokens in words_descriptions for word in tokens]\n",
    "data['description_lengths']= [len(tokens) for tokens in words_descriptions]\n",
    "VOCAB = sorted(list(set(all_words)))\n",
    "print(\"%s words total, with a vocabulary size of %s\" % (len(all_words), len(VOCAB)))\n",
    "\n",
    "stopword_list = stopwords.words('english')\n",
    "ps = PorterStemmer()\n",
    "words_descriptions = words_descriptions.apply(lambda elem: [word for word in elem if not word in stopword_list])\n",
    "words_descriptions = words_descriptions.apply(lambda elem: [ps.stem(word) for word in elem])\n",
    "data['description_cleaned'] = words_descriptions.apply(lambda elem: ' '.join(elem))"
   ]
  },
  {
   "cell_type": "code",
   "execution_count": 174,
   "metadata": {
    "ExecuteTime": {
     "end_time": "2019-12-03T05:48:22.575924Z",
     "start_time": "2019-12-03T05:48:22.560867Z"
    }
   },
   "outputs": [],
   "source": [
    "def prepare_dataframe(vect, data, features=True):\n",
    "    vectorized=vect.fit_transform(data['description_cleaned']).toarray()\n",
    "    vectorized=pd.DataFrame(vectorized)\n",
    "    vectorized.columns = [ name + \"_nlp\" for name in  vect.get_feature_names()]\n",
    "    if features == True:\n",
    "        X=data.drop(columns=['points','Unnamed: 0',\n",
    "                             'description','description_cleaned', 'designation',\n",
    "                            'title'])\n",
    "        X=X.fillna(-1)\n",
    "        print(X.columns)\n",
    "        X=pd.concat([X.reset_index(drop=True),vectorized.reset_index(drop=True)],axis=1)\n",
    "    else:\n",
    "        X=vectorized\n",
    "    y=data['points']\n",
    "    return X,y\n",
    "\n",
    "def myOneHotEncoder(s, thresh, name):\n",
    "    d = pd.get_dummies(s)\n",
    "    f = pd.value_counts(s, sort=False, normalize=True) < thresh\n",
    "    if f.sum() == 0:\n",
    "        return d\n",
    "    else:\n",
    "        return d.loc[:, ~f].join(d.loc[:, f].sum(1).rename('other_' + name))"
   ]
  },
  {
   "cell_type": "code",
   "execution_count": 175,
   "metadata": {
    "ExecuteTime": {
     "end_time": "2019-12-03T05:48:41.180398Z",
     "start_time": "2019-12-03T05:48:27.047009Z"
    }
   },
   "outputs": [],
   "source": [
    "categorical_col = {'country' : 0, \n",
    "                   'province' : 0.001,\n",
    "                   'region_1' :0.001,\n",
    "                   'taster_name' : 0,\n",
    "                   'taster_twitter_handle' : 0,\n",
    "                   'variety' :0.01,\n",
    "                   'winery' :0.01}\n",
    "for cat, thresh in categorical_col.items():\n",
    "    cols = myOneHotEncoder(data[cat], thresh, cat)\n",
    "    data = pd.concat([data, cols], axis=1)\n",
    "\n",
    "data=data.drop(columns=['region_2'])\n",
    "data=data.reset_index(drop=True)\n",
    "data=data.drop(columns=categorical_col.keys())\n",
    "data=data.reset_index(drop=True)"
   ]
  },
  {
   "cell_type": "code",
   "execution_count": 176,
   "metadata": {
    "ExecuteTime": {
     "end_time": "2019-12-03T05:48:47.233623Z",
     "start_time": "2019-12-03T05:48:42.889127Z"
    }
   },
   "outputs": [
    {
     "name": "stdout",
     "output_type": "stream",
     "text": [
      "Index(['price', 'description_lengths', 'Argentina', 'Armenia', 'Australia',\n",
      "       'Austria', 'Bosnia and Herzegovina', 'Brazil', 'Bulgaria', 'Canada',\n",
      "       ...\n",
      "       'Rosé', 'Sangiovese', 'Sauvignon Blanc', 'Sparkling Blend', 'Syrah',\n",
      "       'Tempranillo', 'White Blend', 'Zinfandel', 'other_variety',\n",
      "       'other_winery'],\n",
      "      dtype='object', length=354)\n"
     ]
    },
    {
     "data": {
      "text/plain": [
       "(111593, 854)"
      ]
     },
     "execution_count": 176,
     "metadata": {},
     "output_type": "execute_result"
    }
   ],
   "source": [
    "vect= CountVectorizer(analyzer='word', token_pattern=r'\\w+',max_features=500)\n",
    "X,y = prepare_dataframe(vect, data)\n",
    "X.shape"
   ]
  },
  {
   "cell_type": "code",
   "execution_count": 177,
   "metadata": {
    "ExecuteTime": {
     "end_time": "2019-12-03T05:48:53.055396Z",
     "start_time": "2019-12-03T05:48:51.795906Z"
    }
   },
   "outputs": [
    {
     "data": {
      "text/plain": [
       "((111593, 854), (111593,))"
      ]
     },
     "execution_count": 177,
     "metadata": {},
     "output_type": "execute_result"
    }
   ],
   "source": [
    "\n",
    "from sklearn.preprocessing import StandardScaler\n",
    "copy_x = X.copy()\n",
    "\n",
    "col_names = ['price', 'description_lengths']\n",
    "features = copy_x[col_names]\n",
    "scaler = StandardScaler().fit(features.values)\n",
    "features = scaler.transform(features.values)\n",
    "copy_x[col_names] = features\n",
    "copy_x.shape, y.shape"
   ]
  },
  {
   "cell_type": "code",
   "execution_count": 178,
   "metadata": {
    "ExecuteTime": {
     "end_time": "2019-12-03T05:49:00.548255Z",
     "start_time": "2019-12-03T05:48:59.948676Z"
    }
   },
   "outputs": [],
   "source": [
    "X_train, X_test, y_train, y_test = train_test_split(X, y, test_size=0.10, \n",
    "                                                        random_state=42)"
   ]
  },
  {
   "cell_type": "code",
   "execution_count": 111,
   "metadata": {
    "ExecuteTime": {
     "end_time": "2019-12-03T02:38:56.357185Z",
     "start_time": "2019-12-03T02:34:44.981057Z"
    }
   },
   "outputs": [],
   "source": [
    "from sklearn.linear_model import RidgeCV\n",
    "alphas = [0.001, 0.01, 0.1, 1.0, 1.1, 1.2, 1.3, 1.4, 1.5, 2, 4, 6, 8, 10]\n",
    "rmse = [0] * len(alphas)\n",
    "coefs = []\n",
    "for idx, alpha in enumerate(alphas):\n",
    "    reg = RidgeCV(cv=5, alphas=[alpha]).fit(X_train, y_train)\n",
    "    pred = reg.predict(X_test)\n",
    "    rmse[idx] = math.sqrt(mean_squared_error(y_test, pred))\n",
    "    coefs.append(reg.coef_)"
   ]
  },
  {
   "cell_type": "code",
   "execution_count": 112,
   "metadata": {
    "ExecuteTime": {
     "end_time": "2019-12-03T02:39:02.614723Z",
     "start_time": "2019-12-03T02:39:02.243318Z"
    }
   },
   "outputs": [
    {
     "data": {
      "image/png": "[encoded data removed]",
      "text/plain": [
       "<Figure size 432x288 with 1 Axes>"
      ]
     },
     "metadata": {},
     "output_type": "display_data"
    }
   ],
   "source": [
    "# X_train.columns[np.argsort(reg.coef_)]\n",
    "plt.style.use(['seaborn-darkgrid'])\n",
    "plt.plot(alphas, np.log(rmse));\n",
    "plt.title(\"Plot of test-RMSE vs alpha-values\")\n",
    "plt.xlabel(\"Alpha\")\n",
    "plt.ylabel(\"Log(Test-RMSE)\")\n",
    "plt.show()\n",
    "# print(\"Lowest alphas[np.argmin(rmse)]"
   ]
  },
  {
   "cell_type": "code",
   "execution_count": 179,
   "metadata": {
    "ExecuteTime": {
     "end_time": "2019-12-03T05:49:55.211831Z",
     "start_time": "2019-12-03T05:49:10.509740Z"
    }
   },
   "outputs": [
    {
     "name": "stdout",
     "output_type": "stream",
     "text": [
      "1.6906\n"
     ]
    }
   ],
   "source": [
    "reg = RidgeCV(cv=5).fit(X_train, y_train)\n",
    "pred = reg.predict(X_test)\n",
    "print(truncate(math.sqrt(mean_squared_error(y_test, pred)), 4))"
   ]
  },
  {
   "cell_type": "code",
   "execution_count": 180,
   "metadata": {
    "ExecuteTime": {
     "end_time": "2019-12-03T05:50:11.629777Z",
     "start_time": "2019-12-03T05:49:55.215491Z"
    }
   },
   "outputs": [
    {
     "name": "stdout",
     "output_type": "stream",
     "text": [
      "1.6905\n"
     ]
    }
   ],
   "source": [
    "reg = RidgeCV(cv=5, alphas=[alphas[np.argmin(rmse)]]).fit(X_train, y_train)\n",
    "pred = reg.predict(X_test)\n",
    "print(truncate(math.sqrt(mean_squared_error(y_test, pred)), 4))"
   ]
  },
  {
   "cell_type": "code",
   "execution_count": 159,
   "metadata": {
    "ExecuteTime": {
     "end_time": "2019-12-03T03:05:30.061039Z",
     "start_time": "2019-12-03T03:05:30.048634Z"
    }
   },
   "outputs": [
    {
     "name": "stdout",
     "output_type": "stream",
     "text": [
      "Index(['price', 'description_lengths', 'Argentina', 'Armenia', 'Australia',\n",
      "       'Austria', 'Bosnia and Herzegovina', 'Brazil', 'Bulgaria', 'Canada',\n",
      "       ...\n",
      "       'wrap_nlp', 'year_nlp', 'yeasti_nlp', 'yellow_nlp', 'yet_nlp',\n",
      "       'young_nlp', 'youth_nlp', 'zest_nlp', 'zesti_nlp', 'zinfandel_nlp'],\n",
      "      dtype='object', length=854)\n",
      "0.011075914580090019 0.0637908193857785\n",
      "       price  description_lengths  Argentina   Armenia  Australia  alphas\n",
      "0   0.011012             0.063593   0.057757 -0.898784   1.330893   0.001\n",
      "1   0.011012             0.063594   0.059208 -0.890109   1.331544   0.010\n",
      "2   0.011013             0.063597   0.072368 -0.811747   1.337051   0.100\n",
      "3   0.011024             0.063627   0.130527 -0.429317   1.343762   1.000\n",
      "4   0.011025             0.063630   0.133065 -0.407710   1.342002   1.100\n",
      "5   0.011026             0.063633   0.135220 -0.388128   1.340010   1.200\n",
      "6   0.011027             0.063636   0.137044 -0.370299   1.337822   1.300\n",
      "7   0.011028             0.063640   0.138579 -0.353997   1.335466   1.400\n",
      "8   0.011029             0.063643   0.139864 -0.339034   1.332968   1.500\n",
      "9   0.011035             0.063659   0.143440 -0.279519   1.318953   2.000\n",
      "10  0.011056             0.063725   0.136609 -0.162115   1.254752   4.000\n",
      "11  0.011076             0.063791   0.120364 -0.112541   1.192423   6.000\n",
      "12  0.011095             0.063858   0.103137 -0.085278   1.135827   8.000\n",
      "13  0.011114             0.063924   0.086764 -0.068091   1.084853  10.000\n"
     ]
    }
   ],
   "source": [
    "print(X_train.columns)\n",
    "print(reg.coef_[0], reg.coef_[1])\n",
    "coefs_arr = np.array(coefs)\n",
    "df = pd.DataFrame(coefs_arr[:, 0:5])\n",
    "df['alphas'] = alphas\n",
    "columns = X_train.columns[0:5].tolist()\n",
    "columns.append('alphas')\n",
    "df.columns = columns\n",
    "print(df)"
   ]
  },
  {
   "cell_type": "code",
   "execution_count": 160,
   "metadata": {
    "ExecuteTime": {
     "end_time": "2019-12-03T03:10:48.294339Z",
     "start_time": "2019-12-03T03:10:18.887613Z"
    }
   },
   "outputs": [
    {
     "data": {
      "text/plain": [
       "2.2783036619196126"
      ]
     },
     "execution_count": 160,
     "metadata": {},
     "output_type": "execute_result"
    }
   ],
   "source": [
    "from sklearn.linear_model import LassoCV\n",
    "from sklearn.metrics import mean_squared_error\n",
    "import math\n",
    "\n",
    "lasso_reg = LassoCV(cv=5, random_state=0).fit(X_train, y_train)\n",
    "pred = lasso_reg.predict(X_test)\n",
    "math.sqrt(mean_squared_error(y_test, pred))"
   ]
  },
  {
   "cell_type": "code",
   "execution_count": 163,
   "metadata": {
    "ExecuteTime": {
     "end_time": "2019-12-03T03:14:00.956520Z",
     "start_time": "2019-12-03T03:14:00.951317Z"
    }
   },
   "outputs": [
    {
     "data": {
      "text/plain": [
       "Index(['price', 'description_lengths', 'balanc_nlp', 'black_nlp',\n",
       "       'complex_nlp', 'concentr_nlp', 'dark_nlp', 'drink_nlp', 'eleg_nlp',\n",
       "       'full_nlp', 'miner_nlp', 'rich_nlp', 'ripe_nlp', 'spice_nlp',\n",
       "       'structur_nlp'],\n",
       "      dtype='object')"
      ]
     },
     "execution_count": 163,
     "metadata": {},
     "output_type": "execute_result"
    }
   ],
   "source": [
    "X_train.columns[lasso_reg.coef_ > 0]"
   ]
  },
  {
   "cell_type": "code",
   "execution_count": 181,
   "metadata": {
    "ExecuteTime": {
     "end_time": "2019-12-03T05:50:11.667392Z",
     "start_time": "2019-12-03T05:50:11.632900Z"
    }
   },
   "outputs": [],
   "source": [
    "X_new = X_train.loc[:, X_train.columns[lasso_reg.coef_ > 0]]\n",
    "X_test_new = X_test.loc[:, X_test.columns[lasso_reg.coef_ > 0]]"
   ]
  },
  {
   "cell_type": "code",
   "execution_count": 182,
   "metadata": {
    "ExecuteTime": {
     "end_time": "2019-12-03T05:50:12.405338Z",
     "start_time": "2019-12-03T05:50:11.669860Z"
    }
   },
   "outputs": [
    {
     "name": "stdout",
     "output_type": "stream",
     "text": [
      "2.2623\n"
     ]
    }
   ],
   "source": [
    "reg_less_cols = RidgeCV(cv=5).fit(X_new, y_train)\n",
    "pred = reg_less_cols.predict(X_test_new)\n",
    "print(truncate(math.sqrt(mean_squared_error(y_test, pred)), 4))"
   ]
  }
 ],
 "metadata": {
  "kernelspec": {
   "display_name": "Python 3",
   "language": "python",
   "name": "python3"
  },
  "language_info": {
   "codemirror_mode": {
    "name": "ipython",
    "version": 3
   },
   "file_extension": ".py",
   "mimetype": "text/x-python",
   "name": "python",
   "nbconvert_exporter": "python",
   "pygments_lexer": "ipython3",
   "version": "3.6.5"
  }
 },
 "nbformat": 4,
 "nbformat_minor": 2
}
